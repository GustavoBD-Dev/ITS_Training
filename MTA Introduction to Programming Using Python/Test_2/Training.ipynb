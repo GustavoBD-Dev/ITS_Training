{
 "cells": [
  {
   "attachments": {},
   "cell_type": "markdown",
   "metadata": {},
   "source": [
    "## MTA Python 2"
   ]
  },
  {
   "attachments": {},
   "cell_type": "markdown",
   "metadata": {},
   "source": [
    "Complete el siguiente ejemplo de código para que logre la funcionalidad del juego:\n",
    "Un usuario tiene cinco oportunidades de adivinar correctamente un número entero entre 1 y 10. Si el usuario adivina correctamente, recobe un mensaje de felicitación y el juego termina. Si no, reciben un mensaje agradeciéndoles por jugar."
   ]
  },
  {
   "cell_type": "code",
   "execution_count": null,
   "metadata": {},
   "outputs": [],
   "source": [
    "from random import randint\n",
    "for i in range(5):\n",
    "    guess = int(input(\"Escribe un número entre 1 y 10.\"))\n",
    "    randNum = randint(1,10)\n",
    "    if guess == randNum:\n",
    "        print(\"¡Coincidimos!\")\n",
    "        break\n",
    "    else:\n",
    "        print(\"No coincidimos. Inténtalo de nuevo\")"
   ]
  },
  {
   "attachments": {},
   "cell_type": "markdown",
   "metadata": {},
   "source": [
    "Examine el siguiente código\n",
    "¿Qué debe cambiar para que la altura en la función area sea 12 si no se especifica la altura al llamar la función?"
   ]
  },
  {
   "cell_type": "code",
   "execution_count": 3,
   "metadata": {},
   "outputs": [],
   "source": [
    "# def area(ancho, alto):\n",
    "def area(ancho, alto = 12): # \n",
    "    area = ancho * alto\n",
    "    return area\n",
    "\n",
    "caja1area = area(5,2)\n",
    "caja2area = area(6)"
   ]
  },
  {
   "attachments": {},
   "cell_type": "markdown",
   "metadata": {},
   "source": [
    "* La sintaxis adecuada para `pydoc` es `python -m pydoc module` donde `module` representa el nombre de un módulo de Python. `pyoc` es un ejecutable autocontenido que se puede ejecutar desde un símbolo del sistema.\n",
    "\n",
    "* *pydoc* genera documentacion en python modules. La `-m` después del símbolo del sistema de `python` con el comando `pydoc` y el nombre del módulo producirán documentación sobre el módulo. Por ejemplo, el código: \n",
    "\n",
    "* `python -m pydoc pass` mostrará documentación sobre elmódulo de pass dentro de Python."
   ]
  },
  {
   "attachments": {},
   "cell_type": "markdown",
   "metadata": {},
   "source": [
    "En el siguiente código, elija la palabra clave que garantizará que no se ejecute nada si la declración `if` es falsa:"
   ]
  },
  {
   "cell_type": "code",
   "execution_count": 5,
   "metadata": {},
   "outputs": [],
   "source": [
    "def calcArea(alto, ancho):\n",
    "    if alto > 0 and ancho > 0:\n",
    "        print(ancho * alto)\n",
    "    else:\n",
    "        pass # la pabra clave para indicar un simple marcador de posición\n",
    "             # lo que significa que ningún otro código debería ejecutarse."
   ]
  },
  {
   "attachments": {},
   "cell_type": "markdown",
   "metadata": {},
   "source": [
    "¿Qué tipo de error es aquel en el que el código de programación provoca un error de división por cero?\n",
    "\n",
    "* Se produce un error de división por cero se ejecuta una aplicación.\n",
    "* No es causado por una mala sintaxis o una mala lógica, ya que la mala lógica se ejecutará pero devolverá un valor no anticipado.\n",
    "* Por lo tanto, un error de división por cero es un error de tiempo de ejecuación."
   ]
  },
  {
   "attachments": {},
   "cell_type": "markdown",
   "metadata": {},
   "source": [
    "Está en el proceso de escribir un código para dividir dos números. Desea que se muestra el resultado simpre que no haya errores. Si hay errores, desea motrar un mensaje que indique que el usuari intentó dividor por cero o utilizó un número no válido.\n",
    "\n",
    "* Para mostrar un mensaje de error cuando ocurre un error, el código a ejecutar debe estar en un bloque `try`, y el código a ejecutar si hay un error debe estar en un bloque `except`. \n",
    "* La instrucción `finally` se ejecutará independientemente de los fragmentos de código que se ejecuten por encima de ella.\n",
    "* La parte `else` se ejecutará si a = 0.\n",
    "\n",
    "El código terminado se ve así: "
   ]
  },
  {
   "cell_type": "code",
   "execution_count": null,
   "metadata": {},
   "outputs": [],
   "source": [
    "a = float(input(\"Introduzca un número. \"))\n",
    "b = float(input(\"introduzca un número por el que dividir.\"))\n",
    "try:\n",
    "    print(f\"la repsuesta es {a/b}.\")\n",
    "except:\n",
    "    print(\"Esto no funcionó. ¿Intentó dividir por cero o ingresar un número no valido?\")\n",
    "else:\n",
    "    print(\"Dividió correctamente dos números.\")\n",
    "finally:\n",
    "    print(\"Gracias por jugar.\")"
   ]
  },
  {
   "attachments": {},
   "cell_type": "markdown",
   "metadata": {},
   "source": [
    "*mod* no es una palabra clave para el módulo de Python. El símbolo es el `%`. Por lo tanto, el *mod* debe cambiar a un `%`. El código correcto tiene este aspecto:"
   ]
  },
  {
   "cell_type": "code",
   "execution_count": null,
   "metadata": {},
   "outputs": [],
   "source": [
    "cajas = 25\n",
    "cajones = 4\n",
    "quedan = cajas % cajones\n",
    "print(quedan)"
   ]
  },
  {
   "attachments": {},
   "cell_type": "markdown",
   "metadata": {},
   "source": [
    "Si el cálculo se realiza correctamente, debería aparecer el mensaje \"Conoce el número de cajas que se necesita ahora\". Para completar el mesaje correctamente, se debe usar un bloque `try / expetp`.\n",
    "\n",
    "* La cláusula `else` se usa cuando la cláusula `try` funciona, y la variable para cajas debe ser una entrada. \n",
    "\n",
    "Por lo tanto, el código se ve así:"
   ]
  },
  {
   "cell_type": "code",
   "execution_count": null,
   "metadata": {},
   "outputs": [],
   "source": [
    "try:\n",
    "    cajas = int(input(\"introduzca el número de cajas\"))\n",
    "    cajones = cajas / 4\n",
    "    print(f\"Necesitas {cajones} cajones\")\n",
    "except:\n",
    "    print(\"no has ingresado un número válido.\")\n",
    "else:\n",
    "    print(\"Ahora sabes el número de cajones que necesitas\")"
   ]
  },
  {
   "attachments": {},
   "cell_type": "markdown",
   "metadata": {},
   "source": [
    "Crear una hoja de registro para una clase de siete días con 10 estudiantes cada dia.\n",
    "Los rangos de Python se basan en cero, por lo que el rango debe terminar un número después de la cantidad de ves que el código debe ejecutarse.\n",
    "por lo tanto, el código se ve así:"
   ]
  },
  {
   "cell_type": "code",
   "execution_count": null,
   "metadata": {},
   "outputs": [],
   "source": [
    "for classDia in range(1,8):\n",
    "    print(f'Día: {classDia}')\n",
    "    for estudiante in range(1,11):\n",
    "        print(f'Estudiante {estudiante} ___________')"
   ]
  },
  {
   "attachments": {},
   "cell_type": "markdown",
   "metadata": {},
   "source": [
    "Debe escribir código que envíe esquís al personal de ventas del norte y a todos los demás pelotas de golf si superan las ventas de $100,000 por mes.\n",
    "\n",
    "El personal de ventas no recibe ninguna recompensa si no vende más de $100,000 sin importar su ubicación, por lo que esa debe ser la primera condición que se verifique. Luego, se vendieron más de $100,000, se debe verificar la ubicación para determinar la recompensa que obtienen. Este es un ejemplo de un `if` anidado con una instrucción `else`:"
   ]
  },
  {
   "cell_type": "code",
   "execution_count": 11,
   "metadata": {},
   "outputs": [],
   "source": [
    "ventasMensuales = 0\n",
    "region = \"Norte\"\n",
    "if ventasMensuales > 100000:\n",
    "    if region  == \"Norte\":\n",
    "        print(\"Enviar esquis\")\n",
    "    else:\n",
    "        print(\"Enviar pelotas de golf\")"
   ]
  },
  {
   "attachments": {},
   "cell_type": "markdown",
   "metadata": {},
   "source": [
    "* Una instruccion `if` puede sostenerse por sí sola, incluir un `elif` (`else if`), una unstrucción `else` o ambas.\n",
    "* `elif` y más no son necesarios.\n",
    "* Cualquier acción que se lleva a cabo si una declaracion `if` es verdadera debe tener sangría para que Python lea el código correctamente.  "
   ]
  },
  {
   "attachments": {},
   "cell_type": "markdown",
   "metadata": {},
   "source": [
    "El módulo `sys` se utiliza para mostrar información de excepciones, información de errores y otra información del sistema."
   ]
  },
  {
   "attachments": {},
   "cell_type": "markdown",
   "metadata": {},
   "source": [
    "Para comprobar si existe un archivo, es necesario importar el módulo del sistema operativo y utilizar el comando `os.path.file`. El código completado tiene este aspecto:"
   ]
  },
  {
   "cell_type": "code",
   "execution_count": 12,
   "metadata": {},
   "outputs": [],
   "source": [
    "import os\n",
    "if os.path.isfile('file.txt'):\n",
    "    writeFile = open('file.txt', 'a')\n",
    "else:\n",
    "    writeFile = open('file.txt', 'w')"
   ]
  },
  {
   "attachments": {},
   "cell_type": "markdown",
   "metadata": {},
   "source": [
    "En Python, el símbolo de concatenación es una coma, no un signo de mas o ampersand (como ocurre con otros lenguajes). Para indicar la presencia de texto formateado, como una variable de una oración, se necesita el símbolo `f`. El caracter `\\` es un carácter de escape y `\\n` indica una nieva línea.\n",
    "\n",
    "El código completo se ve así:"
   ]
  },
  {
   "cell_type": "code",
   "execution_count": null,
   "metadata": {},
   "outputs": [],
   "source": [
    "precio = 5.99\n",
    "sqft = 100\n",
    "print(\"El precio actual por pie cuadrado es \", precio)\n",
    "print(f\"Necesitas suficiente para {sqft} sqft.\")"
   ]
  },
  {
   "attachments": {},
   "cell_type": "markdown",
   "metadata": {},
   "source": [
    "Para ejecutar un archivo de Python en un entorno de línea de comandos, se usa la palabra `python` seguida del nombre del archivo (suponiendo que el símbolo del sistema esté en la misma carpeta del archivo).\n",
    "\n",
    "El comando correcto es:\n",
    "\n",
    "`python calcArea.py`"
   ]
  },
  {
   "attachments": {},
   "cell_type": "markdown",
   "metadata": {},
   "source": [
    "Al escribir un aechivo que pueda existir, el comandoabrir con el atributo `'a'` abre un archivo existente y lo agrega. El atributo `'w'` crea un nuevo archivo y lo escribe. El comando `\\n` escribe texto en una nueva línea. Por lo tanto el código para escribir en un archivo con el código oara dar cuenta de un archivo existente o la creación de un nuevo archivo es el siguiente:"
   ]
  },
  {
   "cell_type": "code",
   "execution_count": 14,
   "metadata": {},
   "outputs": [],
   "source": [
    "import os\n",
    "if os.path.isfile('result.txt'):\n",
    "    writeFile = open('result.txt', 'a')\n",
    "else:\n",
    "    writeFile = open('result.txt', 'w')\n",
    "\n",
    "    toResults = input(\"¿Que desea escribir en el registro?\")\n",
    "    writeFile.write(\"\\n\" + toResults)\n",
    "    writeFile.close()"
   ]
  },
  {
   "attachments": {},
   "cell_type": "markdown",
   "metadata": {},
   "source": [
    "Para hacer un cálculo de fecha/hora, primero se debe importar el módulo de fehca y hora. Luego, se debe capturar la fecha de hoy, como lo indica el método incorporado `today()`. Los formatos de fecha corta utilizan letras minúsculas para mes, día y año. El código terminado se ve así:"
   ]
  },
  {
   "cell_type": "code",
   "execution_count": null,
   "metadata": {},
   "outputs": [],
   "source": [
    "import datetime\n",
    "currentDate =  datetime.date.today()\n",
    "strDueDate = input(\"Introduzca una fecha de vencimiento en formato de mm/dd/aa\")\n",
    "dueDate = datetime.datetime.strptime(strDueDate, '%m/%d/%y').date()\n",
    "daysLeft = dueDate - currentDate\n",
    "print(f\"Le quedan {daysLeft} días para finalizar\")"
   ]
  },
  {
   "attachments": {},
   "cell_type": "markdown",
   "metadata": {},
   "source": [
    "Para eliminar un archivo, primero se debe importar el módulo del sistema operativo. Luego, el comando `os.path.isfile` se ejecuta como una prueba booleana para ver si existe el archivo indicado. Si es así, el comando `os.remove` completo se ve así:"
   ]
  },
  {
   "cell_type": "code",
   "execution_count": null,
   "metadata": {},
   "outputs": [],
   "source": [
    "import os\n",
    "if os.path.isfile('result.txt'):\n",
    "    os.remove('result.txt')\n",
    "    print(\"Se ha quitado el archivo de resultados.\")\n",
    "else:\n",
    "    print(\"No habia ningún archivo de resultados que borrar\")"
   ]
  },
  {
   "attachments": {},
   "cell_type": "markdown",
   "metadata": {},
   "source": [
    "¿Cuál sería el valor de resultado que se imprime al final de este código?\n",
    "\n",
    "`a, b, c = 3, 5, 7`\n",
    "\n",
    "`resultado = a + b * c`\n",
    "\n",
    "El orden de las operaciones dicta que la multiplicación y la division se calculan antes que la suma y la resta,a menos que haya paréntesis. En este código, no hay parentesis, por lo que `b * c`, que es igual a `35`, se calcula primero. Luego, se suma `3`, lo que hace un total de `38`. "
   ]
  },
  {
   "attachments": {},
   "cell_type": "markdown",
   "metadata": {},
   "source": [
    "Evalúe el siguiente código:"
   ]
  },
  {
   "cell_type": "code",
   "execution_count": null,
   "metadata": {},
   "outputs": [],
   "source": [
    "a = 3\n",
    "b = a\n",
    "a = 5\n",
    "articulosSur = [\"Clubs de golf\", \"Pelotas de golf\"]\n",
    "articulosOeste = [\"Clubs de golf\", \"Pelotas de golf\"]\n",
    "\n",
    "print(articulosSur == articulosOeste) # tienen el mismo contenido \n",
    "print(b == 5) # se establece un cambio despues\n",
    "print(articulosSur is articulosOeste) # son variables separas, por lo que una no es la otra"
   ]
  },
  {
   "attachments": {},
   "cell_type": "markdown",
   "metadata": {},
   "source": [
    "Evalúe el siguiente código:\n",
    "\n",
    "- La palabra clave `in` busca cualquier coincidencia que contenga dentro de una cadena de texto o una matriz de números. Por lo tanto, la palabra *salto* devolverá `True` aunque sea parte de la palabra `saltó`.\n",
    "- La palabra *salta* es una forma de palabra diferente, por lo que devolverá `False`.\n",
    "- *Perros* es una palabra completa dentro de la cita, por lo que devolvera `True` "
   ]
  },
  {
   "cell_type": "code",
   "execution_count": null,
   "metadata": {},
   "outputs": [],
   "source": [
    "cita = \"El veloz zorro marrón saltó sobre los perros perezosos\"\n",
    "\n",
    "print(\"salto\" in cita)  # False\n",
    "print(\"perros\" in cita) # True\n",
    "print(\"salta\" in cita)  # False"
   ]
  },
  {
   "attachments": {},
   "cell_type": "markdown",
   "metadata": {},
   "source": [
    "La palabra `False` representa un valor *boolean* a menos que esté ente comillas, en cuyo caso es una cadena. Los números enteros son *integer*. Los números con decimales son un tipo de datos *float* si no hay nada más que ceros después del punto decimal.\n",
    "\n",
    "- `False`       boolean\n",
    "- `1`           integer\n",
    "- `\"False\"`     string\n",
    "- `1.0`         float"
   ]
  },
  {
   "attachments": {},
   "cell_type": "markdown",
   "metadata": {},
   "source": [
    "Con el siguiente código:\n",
    "* `a,b,c = 10,20,10`\n",
    "- `(a==c) and (b==c)` la declaración es `False`\n",
    "- `((a==c) and (b!=a)) y ((a==c) or (b==c))` la declaracion es `True`. Si una declaracion de una instrucción `or`es verdadera, la respuesta es `True`."
   ]
  },
  {
   "attachments": {},
   "cell_type": "markdown",
   "metadata": {},
   "source": [
    "Tiene un bloque de código que comineza con una matriz. Tienes dos objetivos con la matriz:\n",
    "- Reemplazar el color `verde` con `blanco`.\n",
    "- Imprimir los colores `rojo`, `azul` y `negro`.\n",
    "\n",
    "Para reemplzar un elemento de matriz, puede asignar un nuevo valor a su número de índice. En este caso, el `verde`, al ser el segundo elemento, tiene un valor de `índice` de `1`. Por lo tanto, el `blanco` debe convertirse en el elemento con un valor de índice `1`. El indicador `[::2]` le dice a la instruccion `print` que imprima todos los demás elementos, como se indica con el `2`. El espacio en blanco antes de los segundos dos puntos indica a la instrucción `print` que imprima todos los elementos. los corchetes se utilizan ára todas las refeencias de índice en matrices.   "
   ]
  },
  {
   "cell_type": "code",
   "execution_count": null,
   "metadata": {},
   "outputs": [],
   "source": [
    "flags = [\"Rojo\", \"Verde\", \"Azul\", \"Amarillo\", \"Negro\"]\n",
    "flags[1] = [\"Blanco\"]\n",
    "print(flags[::2])"
   ]
  },
  {
   "attachments": {},
   "cell_type": "markdown",
   "metadata": {},
   "source": [
    "Para que un número se imprima dentro de una declaración `print` que contenga texto, su tipo de datos debe convertirse en texto, a menos que se utilice el indicador `f` con corchetes para el texto formateado.\n",
    "Por ejemplo:"
   ]
  },
  {
   "cell_type": "code",
   "execution_count": null,
   "metadata": {},
   "outputs": [],
   "source": [
    "ancho = 5\n",
    "alto = 12\n",
    "print(\"El area del rectángulo es \" + str(ancho * alto) + \".\")"
   ]
  },
  {
   "attachments": {},
   "cell_type": "markdown",
   "metadata": {},
   "source": [
    "* Python es un lenguaje de tipo flexible, por lo que las variables no necesitan un tipo de datos especificando cuando se declaran.\n",
    "* El símbolo para concatenar texto y un número dentro de una declaracion de impresión es una coma `(,)` , no un signo más `(+)`.  \n",
    "* El símbolo para concatenar dos cadenas de texto es el signo más."
   ]
  },
  {
   "attachments": {},
   "cell_type": "markdown",
   "metadata": {},
   "source": [
    "El método `assertGreater` se usa para ver si un valor es mayor que otro valor. `assertGreaterEqual` se usa para ver si un valor es mayor o igual que otro valor."
   ]
  },
  {
   "attachments": {},
   "cell_type": "markdown",
   "metadata": {},
   "source": []
  }
 ],
 "metadata": {
  "kernelspec": {
   "display_name": "Python 3",
   "language": "python",
   "name": "python3"
  },
  "language_info": {
   "codemirror_mode": {
    "name": "ipython",
    "version": 3
   },
   "file_extension": ".py",
   "mimetype": "text/x-python",
   "name": "python",
   "nbconvert_exporter": "python",
   "pygments_lexer": "ipython3",
   "version": "3.11.1"
  },
  "orig_nbformat": 4
 },
 "nbformat": 4,
 "nbformat_minor": 2
}
